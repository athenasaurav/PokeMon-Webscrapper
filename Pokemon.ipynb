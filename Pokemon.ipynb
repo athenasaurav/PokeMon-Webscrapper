{
 "cells": [
  {
   "cell_type": "code",
   "execution_count": 1,
   "metadata": {},
   "outputs": [],
   "source": [
    "import requests\n",
    "import lxml.html as lh\n",
    "import pandas as pd"
   ]
  },
  {
   "cell_type": "code",
   "execution_count": 2,
   "metadata": {},
   "outputs": [],
   "source": [
    "url='http://pokemondb.net/pokedex/all'\n",
    "#Create a handle, page, to handle the contents of the website\n",
    "page = requests.get(url)\n",
    "#Store the contents of the website under doc\n",
    "doc = lh.fromstring(page.content)\n",
    "#Parse data that are stored between <tr>..</tr> of HTML\n",
    "tr_elements = doc.xpath('//tr')"
   ]
  },
  {
   "cell_type": "code",
   "execution_count": 3,
   "metadata": {},
   "outputs": [
    {
     "data": {
      "text/plain": [
       "[10, 10, 10, 10, 10, 10, 10, 10, 10, 10, 10, 10]"
      ]
     },
     "execution_count": 3,
     "metadata": {},
     "output_type": "execute_result"
    }
   ],
   "source": [
    "#Check the length of the first 12 rows\n",
    "[len(T) for T in tr_elements[:12]]"
   ]
  },
  {
   "cell_type": "code",
   "execution_count": 6,
   "metadata": {},
   "outputs": [
    {
     "name": "stdout",
     "output_type": "stream",
     "text": [
      "1:\"#\"\n",
      "2:\"Name\"\n",
      "3:\"Type\"\n",
      "4:\"Total\"\n",
      "5:\"HP\"\n",
      "6:\"Attack\"\n",
      "7:\"Defense\"\n",
      "8:\"Sp. Atk\"\n",
      "9:\"Sp. Def\"\n",
      "10:\"Speed\"\n"
     ]
    }
   ],
   "source": [
    "tr_elements = doc.xpath('//tr')\n",
    "#Create empty list\n",
    "col=[]\n",
    "i=0\n",
    "#For each row, store each first element (header) and an empty list\n",
    "for t in tr_elements[0]:\n",
    "    i+=1\n",
    "    name=t.text_content()\n",
    "    print('%d:\"%s\"'%(i,name))\n",
    "    col.append((name,[]))"
   ]
  },
  {
   "cell_type": "code",
   "execution_count": 7,
   "metadata": {},
   "outputs": [],
   "source": [
    "for j in range(1,len(tr_elements)):\n",
    "    #T is our j'th row\n",
    "    T=tr_elements[j]\n",
    "    \n",
    "    #If row is not of size 10, the //tr data is not from our table \n",
    "    if len(T)!=10:\n",
    "        break\n",
    "    \n",
    "    #i is the index of our column\n",
    "    i=0\n",
    "    \n",
    "    #Iterate through each element of the row\n",
    "    for t in T.iterchildren():\n",
    "        data=t.text_content() \n",
    "        #Check if row is empty\n",
    "        if i>0:\n",
    "        #Convert any numerical value to integers\n",
    "            try:\n",
    "                data=int(data)\n",
    "            except:\n",
    "                pass\n",
    "        #Append the data to the empty list of the i'th column\n",
    "        col[i][1].append(data)\n",
    "        #Increment i for the next column\n",
    "        i+=1\n"
   ]
  },
  {
   "cell_type": "code",
   "execution_count": 8,
   "metadata": {},
   "outputs": [
    {
     "data": {
      "text/plain": [
       "[926, 926, 926, 926, 926, 926, 926, 926, 926, 926]"
      ]
     },
     "execution_count": 8,
     "metadata": {},
     "output_type": "execute_result"
    }
   ],
   "source": [
    "[len(C) for (title,C) in col]"
   ]
  },
  {
   "cell_type": "code",
   "execution_count": 9,
   "metadata": {},
   "outputs": [],
   "source": [
    "Dict={title:column for (title,column) in col}\n",
    "df=pd.DataFrame(Dict)"
   ]
  },
  {
   "cell_type": "code",
   "execution_count": 10,
   "metadata": {},
   "outputs": [
    {
     "data": {
      "text/html": [
       "<div>\n",
       "<style scoped>\n",
       "    .dataframe tbody tr th:only-of-type {\n",
       "        vertical-align: middle;\n",
       "    }\n",
       "\n",
       "    .dataframe tbody tr th {\n",
       "        vertical-align: top;\n",
       "    }\n",
       "\n",
       "    .dataframe thead th {\n",
       "        text-align: right;\n",
       "    }\n",
       "</style>\n",
       "<table border=\"1\" class=\"dataframe\">\n",
       "  <thead>\n",
       "    <tr style=\"text-align: right;\">\n",
       "      <th></th>\n",
       "      <th>#</th>\n",
       "      <th>Name</th>\n",
       "      <th>Type</th>\n",
       "      <th>Total</th>\n",
       "      <th>HP</th>\n",
       "      <th>Attack</th>\n",
       "      <th>Defense</th>\n",
       "      <th>Sp. Atk</th>\n",
       "      <th>Sp. Def</th>\n",
       "      <th>Speed</th>\n",
       "    </tr>\n",
       "  </thead>\n",
       "  <tbody>\n",
       "    <tr>\n",
       "      <th>0</th>\n",
       "      <td>001</td>\n",
       "      <td>Bulbasaur</td>\n",
       "      <td>GrassPoison</td>\n",
       "      <td>318</td>\n",
       "      <td>45</td>\n",
       "      <td>49</td>\n",
       "      <td>49</td>\n",
       "      <td>65</td>\n",
       "      <td>65</td>\n",
       "      <td>45</td>\n",
       "    </tr>\n",
       "    <tr>\n",
       "      <th>1</th>\n",
       "      <td>002</td>\n",
       "      <td>Ivysaur</td>\n",
       "      <td>GrassPoison</td>\n",
       "      <td>405</td>\n",
       "      <td>60</td>\n",
       "      <td>62</td>\n",
       "      <td>63</td>\n",
       "      <td>80</td>\n",
       "      <td>80</td>\n",
       "      <td>60</td>\n",
       "    </tr>\n",
       "    <tr>\n",
       "      <th>2</th>\n",
       "      <td>003</td>\n",
       "      <td>Venusaur</td>\n",
       "      <td>GrassPoison</td>\n",
       "      <td>525</td>\n",
       "      <td>80</td>\n",
       "      <td>82</td>\n",
       "      <td>83</td>\n",
       "      <td>100</td>\n",
       "      <td>100</td>\n",
       "      <td>80</td>\n",
       "    </tr>\n",
       "    <tr>\n",
       "      <th>3</th>\n",
       "      <td>003</td>\n",
       "      <td>VenusaurMega Venusaur</td>\n",
       "      <td>GrassPoison</td>\n",
       "      <td>625</td>\n",
       "      <td>80</td>\n",
       "      <td>100</td>\n",
       "      <td>123</td>\n",
       "      <td>122</td>\n",
       "      <td>120</td>\n",
       "      <td>80</td>\n",
       "    </tr>\n",
       "    <tr>\n",
       "      <th>4</th>\n",
       "      <td>004</td>\n",
       "      <td>Charmander</td>\n",
       "      <td>Fire</td>\n",
       "      <td>309</td>\n",
       "      <td>39</td>\n",
       "      <td>52</td>\n",
       "      <td>43</td>\n",
       "      <td>60</td>\n",
       "      <td>50</td>\n",
       "      <td>65</td>\n",
       "    </tr>\n",
       "  </tbody>\n",
       "</table>\n",
       "</div>"
      ],
      "text/plain": [
       "     #                   Name         Type  Total  HP  Attack  Defense  \\\n",
       "0  001              Bulbasaur  GrassPoison    318  45      49       49   \n",
       "1  002                Ivysaur  GrassPoison    405  60      62       63   \n",
       "2  003               Venusaur  GrassPoison    525  80      82       83   \n",
       "3  003  VenusaurMega Venusaur  GrassPoison    625  80     100      123   \n",
       "4  004             Charmander         Fire    309  39      52       43   \n",
       "\n",
       "   Sp. Atk  Sp. Def  Speed  \n",
       "0       65       65     45  \n",
       "1       80       80     60  \n",
       "2      100      100     80  \n",
       "3      122      120     80  \n",
       "4       60       50     65  "
      ]
     },
     "execution_count": 10,
     "metadata": {},
     "output_type": "execute_result"
    }
   ],
   "source": [
    "df.head()"
   ]
  },
  {
   "cell_type": "code",
   "execution_count": 11,
   "metadata": {},
   "outputs": [
    {
     "name": "stdout",
     "output_type": "stream",
     "text": [
      "       #                         Name            Type  Total   HP  Attack  \\\n",
      "0    001                    Bulbasaur     GrassPoison    318   45      49   \n",
      "1    002                      Ivysaur     GrassPoison    405   60      62   \n",
      "2    003                     Venusaur     GrassPoison    525   80      82   \n",
      "3    003        VenusaurMega Venusaur     GrassPoison    625   80     100   \n",
      "4    004                   Charmander            Fire    309   39      52   \n",
      "5    005                   Charmeleon            Fire    405   58      64   \n",
      "6    006                    Charizard      FireFlying    534   78      84   \n",
      "7    006    CharizardMega Charizard X      FireDragon    634   78     130   \n",
      "8    006    CharizardMega Charizard Y      FireFlying    634   78     104   \n",
      "9    007                     Squirtle           Water    314   44      48   \n",
      "10   008                    Wartortle           Water    405   59      63   \n",
      "11   009                    Blastoise           Water    530   79      83   \n",
      "12   009      BlastoiseMega Blastoise           Water    630   79     103   \n",
      "13   010                     Caterpie             Bug    195   45      30   \n",
      "14   011                      Metapod             Bug    205   50      20   \n",
      "15   012                   Butterfree       BugFlying    395   60      45   \n",
      "16   013                       Weedle       BugPoison    195   40      35   \n",
      "17   014                       Kakuna       BugPoison    205   45      25   \n",
      "18   015                     Beedrill       BugPoison    395   65      90   \n",
      "19   015        BeedrillMega Beedrill       BugPoison    495   65     150   \n",
      "20   016                       Pidgey    NormalFlying    251   40      45   \n",
      "21   017                    Pidgeotto    NormalFlying    349   63      60   \n",
      "22   018                      Pidgeot    NormalFlying    479   83      80   \n",
      "23   018          PidgeotMega Pidgeot    NormalFlying    579   83      80   \n",
      "24   019                      Rattata          Normal    253   30      56   \n",
      "25   019        RattataAlolan Rattata      DarkNormal    253   30      56   \n",
      "26   020                     Raticate          Normal    413   55      81   \n",
      "27   020      RaticateAlolan Raticate      DarkNormal    413   75      71   \n",
      "28   021                      Spearow    NormalFlying    262   40      60   \n",
      "29   022                       Fearow    NormalFlying    442   65      90   \n",
      "..   ...                          ...             ...    ...  ...     ...   \n",
      "896  783                     Hakamo-o  DragonFighting    420   55      75   \n",
      "897  784                      Kommo-o  DragonFighting    600   75     110   \n",
      "898  785                    Tapu Koko   ElectricFairy    570   70     115   \n",
      "899  786                    Tapu Lele    PsychicFairy    570   70      85   \n",
      "900  787                    Tapu Bulu      GrassFairy    570   70     130   \n",
      "901  788                    Tapu Fini      WaterFairy    570   70      75   \n",
      "902  789                       Cosmog         Psychic    200   43      29   \n",
      "903  790                      Cosmoem         Psychic    400   43      29   \n",
      "904  791                     Solgaleo    PsychicSteel    680  137     137   \n",
      "905  792                       Lunala    PsychicGhost    680  137     113   \n",
      "906  793                     Nihilego      RockPoison    570  109      53   \n",
      "907  794                     Buzzwole     BugFighting    570  107     139   \n",
      "908  795                    Pheromosa     BugFighting    570   71     137   \n",
      "909  796                    Xurkitree        Electric    570   83      89   \n",
      "910  797                   Celesteela     SteelFlying    570   97     101   \n",
      "911  798                      Kartana      GrassSteel    570   59     181   \n",
      "912  799                     Guzzlord      DarkDragon    570  223     101   \n",
      "913  800                     Necrozma         Psychic    600   97     107   \n",
      "914  800   NecrozmaDusk Mane Necrozma    PsychicSteel    680   97     157   \n",
      "915  800  NecrozmaDawn Wings Necrozma    PsychicGhost    680   97     113   \n",
      "916  800       NecrozmaUltra Necrozma   PsychicDragon    754   97     167   \n",
      "917  801                     Magearna      SteelFairy    600   80      95   \n",
      "918  802                    Marshadow   FightingGhost    600   90     125   \n",
      "919  803                      Poipole          Poison    420   67      73   \n",
      "920  804                    Naganadel    PoisonDragon    540   73      73   \n",
      "921  805                    Stakataka       RockSteel    570   61     131   \n",
      "922  806                  Blacephalon       FireGhost    570   53     127   \n",
      "923  807                      Zeraora        Electric    600   88     112   \n",
      "924  808                       Meltan           Steel    300   46      65   \n",
      "925  809                     Melmetal           Steel    600  135     143   \n",
      "\n",
      "     Defense  Sp. Atk  Sp. Def  Speed  \n",
      "0         49       65       65     45  \n",
      "1         63       80       80     60  \n",
      "2         83      100      100     80  \n",
      "3        123      122      120     80  \n",
      "4         43       60       50     65  \n",
      "5         58       80       65     80  \n",
      "6         78      109       85    100  \n",
      "7        111      130       85    100  \n",
      "8         78      159      115    100  \n",
      "9         65       50       64     43  \n",
      "10        80       65       80     58  \n",
      "11       100       85      105     78  \n",
      "12       120      135      115     78  \n",
      "13        35       20       20     45  \n",
      "14        55       25       25     30  \n",
      "15        50       90       80     70  \n",
      "16        30       20       20     50  \n",
      "17        50       25       25     35  \n",
      "18        40       45       80     75  \n",
      "19        40       15       80    145  \n",
      "20        40       35       35     56  \n",
      "21        55       50       50     71  \n",
      "22        75       70       70    101  \n",
      "23        80      135       80    121  \n",
      "24        35       25       35     72  \n",
      "25        35       25       35     72  \n",
      "26        60       50       70     97  \n",
      "27        70       40       80     77  \n",
      "28        30       31       31     70  \n",
      "29        65       61       61    100  \n",
      "..       ...      ...      ...    ...  \n",
      "896       90       65       70     65  \n",
      "897      125      100      105     85  \n",
      "898       85       95       75    130  \n",
      "899       75      130      115     95  \n",
      "900      115       85       95     75  \n",
      "901      115       95      130     85  \n",
      "902       31       29       31     37  \n",
      "903      131       29      131     37  \n",
      "904      107      113       89     97  \n",
      "905       89      137      107     97  \n",
      "906       47      127      131    103  \n",
      "907      139       53       53     79  \n",
      "908       37      137       37    151  \n",
      "909       71      173       71     83  \n",
      "910      103      107      101     61  \n",
      "911      131       59       31    109  \n",
      "912       53       97       53     43  \n",
      "913      101      127       89     79  \n",
      "914      127      113      109     77  \n",
      "915      109      157      127     77  \n",
      "916       97      167       97    129  \n",
      "917      115      130      115     65  \n",
      "918       80       90       90    125  \n",
      "919       67       73       67     73  \n",
      "920       73      127       73    121  \n",
      "921      211       53      101     13  \n",
      "922       53      151       79    107  \n",
      "923       75      102       80    143  \n",
      "924       65       55       35     34  \n",
      "925      143       80       65     34  \n",
      "\n",
      "[926 rows x 10 columns]\n"
     ]
    }
   ],
   "source": [
    "print(df)"
   ]
  },
  {
   "cell_type": "code",
   "execution_count": 12,
   "metadata": {},
   "outputs": [],
   "source": [
    "df.to_csv('pokemon.csv')"
   ]
  },
  {
   "cell_type": "code",
   "execution_count": null,
   "metadata": {},
   "outputs": [],
   "source": []
  }
 ],
 "metadata": {
  "kernelspec": {
   "display_name": "Python 3",
   "language": "python",
   "name": "python3"
  },
  "language_info": {
   "codemirror_mode": {
    "name": "ipython",
    "version": 3
   },
   "file_extension": ".py",
   "mimetype": "text/x-python",
   "name": "python",
   "nbconvert_exporter": "python",
   "pygments_lexer": "ipython3",
   "version": "3.7.3"
  }
 },
 "nbformat": 4,
 "nbformat_minor": 2
}
